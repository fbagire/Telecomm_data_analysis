{
 "cells": [
  {
   "cell_type": "markdown",
   "id": "pacific-curtis",
   "metadata": {},
   "source": [
    "## Task 2"
   ]
  },
  {
   "cell_type": "code",
   "execution_count": 46,
   "id": "direct-produce",
   "metadata": {},
   "outputs": [],
   "source": [
    "df_second=df.copy()"
   ]
  },
  {
   "cell_type": "code",
   "execution_count": 57,
   "id": "deadly-particular",
   "metadata": {
    "scrolled": true
   },
   "outputs": [
    {
     "name": "stdout",
     "output_type": "stream",
     "text": [
      "Dataframe shape: (149008, 50)\n"
     ]
    },
    {
     "data": {
      "text/plain": [
       "Bearer Id                         429\n",
       "Start                               0\n",
       "Start ms                            0\n",
       "End                                 0\n",
       "End ms                              0\n",
       "Dur. (s)                            0\n",
       "IMSI                                0\n",
       "MSISDN/Number                       0\n",
       "IMEI                                0\n",
       "Last Location Name                589\n",
       "Avg RTT DL (ms)                     0\n",
       "Avg RTT UL (ms)                     0\n",
       "Avg Bearer TP DL (kbps)             0\n",
       "Avg Bearer TP UL (kbps)             0\n",
       "DL TP < 50 Kbps (%)                 0\n",
       "50 Kbps < DL TP < 250 Kbps (%)      0\n",
       "250 Kbps < DL TP < 1 Mbps (%)       0\n",
       "DL TP > 1 Mbps (%)                  0\n",
       "UL TP < 10 Kbps (%)                 0\n",
       "10 Kbps < UL TP < 50 Kbps (%)       0\n",
       "Activity Duration DL (ms)           0\n",
       "Activity Duration UL (ms)           0\n",
       "Handset Manufacturer                0\n",
       "Handset Type                        0\n",
       "Nb of sec with Vol DL < 6250B       0\n",
       "Nb of sec with Vol UL < 1250B       0\n",
       "Social Media DL (Bytes)             0\n",
       "Social Media UL (Bytes)             0\n",
       "Google DL (Bytes)                   0\n",
       "Google UL (Bytes)                   0\n",
       "Email DL (Bytes)                    0\n",
       "Email UL (Bytes)                    0\n",
       "Youtube DL (Bytes)                  0\n",
       "Youtube UL (Bytes)                  0\n",
       "Netflix DL (Bytes)                  0\n",
       "Netflix UL (Bytes)                  0\n",
       "Gaming DL (Bytes)                   0\n",
       "Gaming UL (Bytes)                   0\n",
       "Other DL (Bytes)                    0\n",
       "Other UL (Bytes)                    0\n",
       "Total UL (Bytes)                    0\n",
       "Total DL (Bytes)                    0\n",
       "Total Data (megabytes)              0\n",
       "Social Media Total (megabytes)      0\n",
       "Email Total (megabytes)             0\n",
       "Google Total (megabytes)            0\n",
       "Youtube Total (megabytes)           0\n",
       "Netflix Total (megabytes)           0\n",
       "Gaming Total (megabytes)            0\n",
       "Other Total (megabytes)             0\n",
       "dtype: int64"
      ]
     },
     "execution_count": 57,
     "metadata": {},
     "output_type": "execute_result"
    }
   ],
   "source": [
    "print('Dataframe shape: '+ format(df_second.shape))\n",
    "df_second.isna().sum()"
   ]
  },
  {
   "cell_type": "markdown",
   "id": "stopped-vampire",
   "metadata": {},
   "source": [
    "### 1"
   ]
  },
  {
   "cell_type": "code",
   "execution_count": 58,
   "id": "regular-breathing",
   "metadata": {},
   "outputs": [],
   "source": [
    "users_metric=df_second.groupby(by='MSISDN/Number').agg({'Bearer Id':'count','Dur. (s)':'sum','Total Data (megabytes)':'sum'})\n",
    "users_metric.columns=['Number of Sessions','Duration(s)','Total Data(megabytes)']"
   ]
  },
  {
   "cell_type": "code",
   "execution_count": 59,
   "id": "metallic-muscle",
   "metadata": {},
   "outputs": [
    {
     "name": "stdout",
     "output_type": "stream",
     "text": [
      "Top 10 customers with most sessions\n"
     ]
    },
    {
     "data": {
      "text/html": [
       "<div>\n",
       "<style scoped>\n",
       "    .dataframe tbody tr th:only-of-type {\n",
       "        vertical-align: middle;\n",
       "    }\n",
       "\n",
       "    .dataframe tbody tr th {\n",
       "        vertical-align: top;\n",
       "    }\n",
       "\n",
       "    .dataframe thead th {\n",
       "        text-align: right;\n",
       "    }\n",
       "</style>\n",
       "<table border=\"1\" class=\"dataframe\">\n",
       "  <thead>\n",
       "    <tr style=\"text-align: right;\">\n",
       "      <th></th>\n",
       "      <th>Number of Sessions</th>\n",
       "      <th>Duration(s)</th>\n",
       "      <th>Total Data(megabytes)</th>\n",
       "    </tr>\n",
       "    <tr>\n",
       "      <th>MSISDN/Number</th>\n",
       "      <th></th>\n",
       "      <th></th>\n",
       "      <th></th>\n",
       "    </tr>\n",
       "  </thead>\n",
       "  <tbody>\n",
       "    <tr>\n",
       "      <th>33626320676</th>\n",
       "      <td>18</td>\n",
       "      <td>4314.187575</td>\n",
       "      <td>7971.167261</td>\n",
       "    </tr>\n",
       "    <tr>\n",
       "      <th>33625779332</th>\n",
       "      <td>17</td>\n",
       "      <td>2719.119747</td>\n",
       "      <td>8499.620722</td>\n",
       "    </tr>\n",
       "    <tr>\n",
       "      <th>33614892860</th>\n",
       "      <td>17</td>\n",
       "      <td>3278.810363</td>\n",
       "      <td>8846.226494</td>\n",
       "    </tr>\n",
       "    <tr>\n",
       "      <th>33659725664</th>\n",
       "      <td>16</td>\n",
       "      <td>4035.428000</td>\n",
       "      <td>7705.862783</td>\n",
       "    </tr>\n",
       "    <tr>\n",
       "      <th>33675877202</th>\n",
       "      <td>15</td>\n",
       "      <td>3806.576192</td>\n",
       "      <td>7891.110608</td>\n",
       "    </tr>\n",
       "    <tr>\n",
       "      <th>33760536639</th>\n",
       "      <td>15</td>\n",
       "      <td>2764.221171</td>\n",
       "      <td>8514.773963</td>\n",
       "    </tr>\n",
       "    <tr>\n",
       "      <th>33667163239</th>\n",
       "      <td>13</td>\n",
       "      <td>2502.702767</td>\n",
       "      <td>5618.394054</td>\n",
       "    </tr>\n",
       "    <tr>\n",
       "      <th>33604515716</th>\n",
       "      <td>12</td>\n",
       "      <td>3390.981788</td>\n",
       "      <td>5487.855293</td>\n",
       "    </tr>\n",
       "    <tr>\n",
       "      <th>33627080969</th>\n",
       "      <td>12</td>\n",
       "      <td>3154.541788</td>\n",
       "      <td>5754.730859</td>\n",
       "    </tr>\n",
       "    <tr>\n",
       "      <th>33603127838</th>\n",
       "      <td>12</td>\n",
       "      <td>3130.446980</td>\n",
       "      <td>4976.195043</td>\n",
       "    </tr>\n",
       "  </tbody>\n",
       "</table>\n",
       "</div>"
      ],
      "text/plain": [
       "               Number of Sessions  Duration(s)  Total Data(megabytes)\n",
       "MSISDN/Number                                                        \n",
       "33626320676                    18  4314.187575            7971.167261\n",
       "33625779332                    17  2719.119747            8499.620722\n",
       "33614892860                    17  3278.810363            8846.226494\n",
       "33659725664                    16  4035.428000            7705.862783\n",
       "33675877202                    15  3806.576192            7891.110608\n",
       "33760536639                    15  2764.221171            8514.773963\n",
       "33667163239                    13  2502.702767            5618.394054\n",
       "33604515716                    12  3390.981788            5487.855293\n",
       "33627080969                    12  3154.541788            5754.730859\n",
       "33603127838                    12  3130.446980            4976.195043"
      ]
     },
     "execution_count": 59,
     "metadata": {},
     "output_type": "execute_result"
    }
   ],
   "source": [
    "print(\"Top 10 customers with most sessions\")\n",
    "users_metric.sort_values(by='Number of Sessions',ascending=False).head(10)"
   ]
  },
  {
   "cell_type": "code",
   "execution_count": 60,
   "id": "veterinary-oriental",
   "metadata": {},
   "outputs": [
    {
     "name": "stdout",
     "output_type": "stream",
     "text": [
      "Top 10 customers with long sessions\n"
     ]
    },
    {
     "data": {
      "text/html": [
       "<div>\n",
       "<style scoped>\n",
       "    .dataframe tbody tr th:only-of-type {\n",
       "        vertical-align: middle;\n",
       "    }\n",
       "\n",
       "    .dataframe tbody tr th {\n",
       "        vertical-align: top;\n",
       "    }\n",
       "\n",
       "    .dataframe thead th {\n",
       "        text-align: right;\n",
       "    }\n",
       "</style>\n",
       "<table border=\"1\" class=\"dataframe\">\n",
       "  <thead>\n",
       "    <tr style=\"text-align: right;\">\n",
       "      <th></th>\n",
       "      <th>Number of Sessions</th>\n",
       "      <th>Duration(s)</th>\n",
       "      <th>Total Data(megabytes)</th>\n",
       "    </tr>\n",
       "    <tr>\n",
       "      <th>MSISDN/Number</th>\n",
       "      <th></th>\n",
       "      <th></th>\n",
       "      <th></th>\n",
       "    </tr>\n",
       "  </thead>\n",
       "  <tbody>\n",
       "    <tr>\n",
       "      <th>33626320676</th>\n",
       "      <td>18</td>\n",
       "      <td>4314.187575</td>\n",
       "      <td>7971.167261</td>\n",
       "    </tr>\n",
       "    <tr>\n",
       "      <th>33786323068</th>\n",
       "      <td>12</td>\n",
       "      <td>4059.652000</td>\n",
       "      <td>5622.231529</td>\n",
       "    </tr>\n",
       "    <tr>\n",
       "      <th>33659725664</th>\n",
       "      <td>16</td>\n",
       "      <td>4035.428000</td>\n",
       "      <td>7705.862783</td>\n",
       "    </tr>\n",
       "    <tr>\n",
       "      <th>33675877202</th>\n",
       "      <td>15</td>\n",
       "      <td>3806.576192</td>\n",
       "      <td>7891.110608</td>\n",
       "    </tr>\n",
       "    <tr>\n",
       "      <th>33761268199</th>\n",
       "      <td>10</td>\n",
       "      <td>3481.629000</td>\n",
       "      <td>5051.114473</td>\n",
       "    </tr>\n",
       "    <tr>\n",
       "      <th>33652131385</th>\n",
       "      <td>8</td>\n",
       "      <td>3393.253000</td>\n",
       "      <td>3038.073726</td>\n",
       "    </tr>\n",
       "    <tr>\n",
       "      <th>33604515716</th>\n",
       "      <td>12</td>\n",
       "      <td>3390.981788</td>\n",
       "      <td>5487.855293</td>\n",
       "    </tr>\n",
       "    <tr>\n",
       "      <th>33614892860</th>\n",
       "      <td>17</td>\n",
       "      <td>3278.810363</td>\n",
       "      <td>8846.226494</td>\n",
       "    </tr>\n",
       "    <tr>\n",
       "      <th>33675588018</th>\n",
       "      <td>8</td>\n",
       "      <td>3164.842000</td>\n",
       "      <td>2819.931163</td>\n",
       "    </tr>\n",
       "    <tr>\n",
       "      <th>33627080969</th>\n",
       "      <td>12</td>\n",
       "      <td>3154.541788</td>\n",
       "      <td>5754.730859</td>\n",
       "    </tr>\n",
       "  </tbody>\n",
       "</table>\n",
       "</div>"
      ],
      "text/plain": [
       "               Number of Sessions  Duration(s)  Total Data(megabytes)\n",
       "MSISDN/Number                                                        \n",
       "33626320676                    18  4314.187575            7971.167261\n",
       "33786323068                    12  4059.652000            5622.231529\n",
       "33659725664                    16  4035.428000            7705.862783\n",
       "33675877202                    15  3806.576192            7891.110608\n",
       "33761268199                    10  3481.629000            5051.114473\n",
       "33652131385                     8  3393.253000            3038.073726\n",
       "33604515716                    12  3390.981788            5487.855293\n",
       "33614892860                    17  3278.810363            8846.226494\n",
       "33675588018                     8  3164.842000            2819.931163\n",
       "33627080969                    12  3154.541788            5754.730859"
      ]
     },
     "execution_count": 60,
     "metadata": {},
     "output_type": "execute_result"
    }
   ],
   "source": [
    "print(\"Top 10 customers with long sessions\")\n",
    "users_metric.sort_values(by='Duration(s)',ascending=False).head(10)"
   ]
  },
  {
   "cell_type": "code",
   "execution_count": 61,
   "id": "specialized-emergency",
   "metadata": {},
   "outputs": [
    {
     "name": "stdout",
     "output_type": "stream",
     "text": [
      "Top 10 customers with large data usage\n"
     ]
    },
    {
     "data": {
      "text/html": [
       "<div>\n",
       "<style scoped>\n",
       "    .dataframe tbody tr th:only-of-type {\n",
       "        vertical-align: middle;\n",
       "    }\n",
       "\n",
       "    .dataframe tbody tr th {\n",
       "        vertical-align: top;\n",
       "    }\n",
       "\n",
       "    .dataframe thead th {\n",
       "        text-align: right;\n",
       "    }\n",
       "</style>\n",
       "<table border=\"1\" class=\"dataframe\">\n",
       "  <thead>\n",
       "    <tr style=\"text-align: right;\">\n",
       "      <th></th>\n",
       "      <th>Number of Sessions</th>\n",
       "      <th>Duration(s)</th>\n",
       "      <th>Total Data(megabytes)</th>\n",
       "    </tr>\n",
       "    <tr>\n",
       "      <th>MSISDN/Number</th>\n",
       "      <th></th>\n",
       "      <th></th>\n",
       "      <th></th>\n",
       "    </tr>\n",
       "  </thead>\n",
       "  <tbody>\n",
       "    <tr>\n",
       "      <th>33614892860</th>\n",
       "      <td>17</td>\n",
       "      <td>3278.810363</td>\n",
       "      <td>8846.226494</td>\n",
       "    </tr>\n",
       "    <tr>\n",
       "      <th>33760536639</th>\n",
       "      <td>15</td>\n",
       "      <td>2764.221171</td>\n",
       "      <td>8514.773963</td>\n",
       "    </tr>\n",
       "    <tr>\n",
       "      <th>33625779332</th>\n",
       "      <td>17</td>\n",
       "      <td>2719.119747</td>\n",
       "      <td>8499.620722</td>\n",
       "    </tr>\n",
       "    <tr>\n",
       "      <th>33626320676</th>\n",
       "      <td>18</td>\n",
       "      <td>4314.187575</td>\n",
       "      <td>7971.167261</td>\n",
       "    </tr>\n",
       "    <tr>\n",
       "      <th>33675877202</th>\n",
       "      <td>15</td>\n",
       "      <td>3806.576192</td>\n",
       "      <td>7891.110608</td>\n",
       "    </tr>\n",
       "    <tr>\n",
       "      <th>33659725664</th>\n",
       "      <td>16</td>\n",
       "      <td>4035.428000</td>\n",
       "      <td>7705.862783</td>\n",
       "    </tr>\n",
       "    <tr>\n",
       "      <th>33666464084</th>\n",
       "      <td>11</td>\n",
       "      <td>2401.530384</td>\n",
       "      <td>7308.500938</td>\n",
       "    </tr>\n",
       "    <tr>\n",
       "      <th>33760413819</th>\n",
       "      <td>12</td>\n",
       "      <td>2951.633384</td>\n",
       "      <td>7132.370514</td>\n",
       "    </tr>\n",
       "    <tr>\n",
       "      <th>33664712899</th>\n",
       "      <td>11</td>\n",
       "      <td>2927.785000</td>\n",
       "      <td>6872.018208</td>\n",
       "    </tr>\n",
       "    <tr>\n",
       "      <th>33698792269</th>\n",
       "      <td>11</td>\n",
       "      <td>2926.933384</td>\n",
       "      <td>6540.899126</td>\n",
       "    </tr>\n",
       "  </tbody>\n",
       "</table>\n",
       "</div>"
      ],
      "text/plain": [
       "               Number of Sessions  Duration(s)  Total Data(megabytes)\n",
       "MSISDN/Number                                                        \n",
       "33614892860                    17  3278.810363            8846.226494\n",
       "33760536639                    15  2764.221171            8514.773963\n",
       "33625779332                    17  2719.119747            8499.620722\n",
       "33626320676                    18  4314.187575            7971.167261\n",
       "33675877202                    15  3806.576192            7891.110608\n",
       "33659725664                    16  4035.428000            7705.862783\n",
       "33666464084                    11  2401.530384            7308.500938\n",
       "33760413819                    12  2951.633384            7132.370514\n",
       "33664712899                    11  2927.785000            6872.018208\n",
       "33698792269                    11  2926.933384            6540.899126"
      ]
     },
     "execution_count": 61,
     "metadata": {},
     "output_type": "execute_result"
    }
   ],
   "source": [
    "print(\"Top 10 customers with large data usage\")\n",
    "users_metric.sort_values(by='Total Data(megabytes)',ascending=False).head(10)"
   ]
  },
  {
   "cell_type": "code",
   "execution_count": 62,
   "id": "macro-thickness",
   "metadata": {},
   "outputs": [
    {
     "data": {
      "image/png": "[encoded data removed]",
      "text/plain": [
       "<Figure size 504x648 with 4 Axes>"
      ]
     },
     "metadata": {
      "needs_background": "light"
     },
     "output_type": "display_data"
    }
   ],
   "source": [
    "_=users_metric.hist(figsize=(7,9))"
   ]
  },
  {
   "cell_type": "code",
   "execution_count": 225,
   "id": "chinese-immune",
   "metadata": {},
   "outputs": [
    {
     "data": {
      "image/png": "[encoded data removed]",
      "text/plain": [
       "<Figure size 540x540 with 9 Axes>"
      ]
     },
     "metadata": {
      "needs_background": "light"
     },
     "output_type": "display_data"
    }
   ],
   "source": [
    "_=sns.pairplot(users_metric,diag_kind='kde',markers=['s'],corner=True)"
   ]
  },
  {
   "cell_type": "code",
   "execution_count": 63,
   "id": "important-belle",
   "metadata": {},
   "outputs": [],
   "source": [
    "from sklearn.cluster import KMeans\n",
    "from scipy.spatial.distance import cdist\n",
    "import sys"
   ]
  },
  {
   "cell_type": "code",
   "execution_count": 64,
   "id": "revised-action",
   "metadata": {},
   "outputs": [],
   "source": [
    "from sklearn.preprocessing import Normalizer\n",
    "\n",
    "def normalizer(df):\n",
    "    norm = Normalizer()\n",
    "    # normalize the exponential data with boxcox\n",
    "    normalized_data = norm.fit_transform(df)\n",
    "    return normalized_data"
   ]
  },
  {
   "cell_type": "code",
   "execution_count": 66,
   "id": "passing-circulation",
   "metadata": {},
   "outputs": [],
   "source": [
    "def make_clusters_summary(df, cluster):\n",
    "    df_dict = {}\n",
    "    for n_cluster in range(0, len(cluster.cluster_centers_)):\n",
    "        cluster_elements = (cluster.labels_ == n_cluster)\n",
    "\n",
    "        df_use = df[cluster_elements]\n",
    "        df_dict['cluster ' + str(n_cluster)] = df_use\n",
    "    return df_dict"
   ]
  },
  {
   "cell_type": "markdown",
   "id": "clear-quebec",
   "metadata": {},
   "source": [
    "## 2"
   ]
  },
  {
   "cell_type": "code",
   "execution_count": 67,
   "id": "about-berkeley",
   "metadata": {},
   "outputs": [],
   "source": [
    "users_metric_scaled=normalizer(users_metric)"
   ]
  },
  {
   "cell_type": "code",
   "execution_count": 68,
   "id": "still-charger",
   "metadata": {},
   "outputs": [],
   "source": [
    "kmeans=KMeans(n_clusters=3).fit(users_metric_scaled)"
   ]
  },
  {
   "cell_type": "code",
   "execution_count": 69,
   "id": "fifth-disclosure",
   "metadata": {},
   "outputs": [
    {
     "data": {
      "text/plain": [
       "777.640058299634"
      ]
     },
     "execution_count": 69,
     "metadata": {},
     "output_type": "execute_result"
    }
   ],
   "source": [
    "kmeans.inertia_"
   ]
  },
  {
   "cell_type": "code",
   "execution_count": 70,
   "id": "desperate-stanley",
   "metadata": {},
   "outputs": [],
   "source": [
    "clusters=make_clusters_summary(users_metric,kmeans)"
   ]
  },
  {
   "cell_type": "code",
   "execution_count": 71,
   "id": "complicated-photographer",
   "metadata": {},
   "outputs": [
    {
     "name": "stdout",
     "output_type": "stream",
     "text": [
      "___Summary Statistics for Cluster 1___\n"
     ]
    },
    {
     "data": {
      "text/html": [
       "<div>\n",
       "<style scoped>\n",
       "    .dataframe tbody tr th:only-of-type {\n",
       "        vertical-align: middle;\n",
       "    }\n",
       "\n",
       "    .dataframe tbody tr th {\n",
       "        vertical-align: top;\n",
       "    }\n",
       "\n",
       "    .dataframe thead th {\n",
       "        text-align: right;\n",
       "    }\n",
       "</style>\n",
       "<table border=\"1\" class=\"dataframe\">\n",
       "  <thead>\n",
       "    <tr style=\"text-align: right;\">\n",
       "      <th></th>\n",
       "      <th>Number of Sessions</th>\n",
       "      <th>Duration(s)</th>\n",
       "      <th>Total Data(megabytes)</th>\n",
       "    </tr>\n",
       "  </thead>\n",
       "  <tbody>\n",
       "    <tr>\n",
       "      <th>min</th>\n",
       "      <td>0</td>\n",
       "      <td>1.375500e+01</td>\n",
       "      <td>4.259776e+01</td>\n",
       "    </tr>\n",
       "    <tr>\n",
       "      <th>max</th>\n",
       "      <td>18</td>\n",
       "      <td>4.314188e+03</td>\n",
       "      <td>8.846226e+03</td>\n",
       "    </tr>\n",
       "    <tr>\n",
       "      <th>sum</th>\n",
       "      <td>41051</td>\n",
       "      <td>5.991917e+06</td>\n",
       "      <td>1.605318e+07</td>\n",
       "    </tr>\n",
       "  </tbody>\n",
       "</table>\n",
       "</div>"
      ],
      "text/plain": [
       "     Number of Sessions   Duration(s)  Total Data(megabytes)\n",
       "min                   0  1.375500e+01           4.259776e+01\n",
       "max                  18  4.314188e+03           8.846226e+03\n",
       "sum               41051  5.991917e+06           1.605318e+07"
      ]
     },
     "execution_count": 71,
     "metadata": {},
     "output_type": "execute_result"
    }
   ],
   "source": [
    "print('___Summary Statistics for Cluster 1___')\n",
    "clusters['cluster 0'].agg(['min','max','sum'])"
   ]
  },
  {
   "cell_type": "code",
   "execution_count": 72,
   "id": "major-playback",
   "metadata": {},
   "outputs": [
    {
     "name": "stdout",
     "output_type": "stream",
     "text": [
      "___Summary Statistics for Cluster 2___\n"
     ]
    },
    {
     "data": {
      "text/html": [
       "<div>\n",
       "<style scoped>\n",
       "    .dataframe tbody tr th:only-of-type {\n",
       "        vertical-align: middle;\n",
       "    }\n",
       "\n",
       "    .dataframe tbody tr th {\n",
       "        vertical-align: top;\n",
       "    }\n",
       "\n",
       "    .dataframe thead th {\n",
       "        text-align: right;\n",
       "    }\n",
       "</style>\n",
       "<table border=\"1\" class=\"dataframe\">\n",
       "  <thead>\n",
       "    <tr style=\"text-align: right;\">\n",
       "      <th></th>\n",
       "      <th>Number of Sessions</th>\n",
       "      <th>Duration(s)</th>\n",
       "      <th>Total Data(megabytes)</th>\n",
       "    </tr>\n",
       "  </thead>\n",
       "  <tbody>\n",
       "    <tr>\n",
       "      <th>min</th>\n",
       "      <td>0</td>\n",
       "      <td>7.142000e+00</td>\n",
       "      <td>5.287081e+01</td>\n",
       "    </tr>\n",
       "    <tr>\n",
       "      <th>max</th>\n",
       "      <td>11</td>\n",
       "      <td>8.875920e+02</td>\n",
       "      <td>5.096129e+03</td>\n",
       "    </tr>\n",
       "    <tr>\n",
       "      <th>sum</th>\n",
       "      <td>96830</td>\n",
       "      <td>7.352512e+06</td>\n",
       "      <td>5.579503e+07</td>\n",
       "    </tr>\n",
       "  </tbody>\n",
       "</table>\n",
       "</div>"
      ],
      "text/plain": [
       "     Number of Sessions   Duration(s)  Total Data(megabytes)\n",
       "min                   0  7.142000e+00           5.287081e+01\n",
       "max                  11  8.875920e+02           5.096129e+03\n",
       "sum               96830  7.352512e+06           5.579503e+07"
      ]
     },
     "execution_count": 72,
     "metadata": {},
     "output_type": "execute_result"
    }
   ],
   "source": [
    "print('___Summary Statistics for Cluster 2___')\n",
    "clusters['cluster 1'].agg(['min','max','sum'])"
   ]
  },
  {
   "cell_type": "code",
   "execution_count": 73,
   "id": "arabic-valentine",
   "metadata": {
    "scrolled": true
   },
   "outputs": [
    {
     "name": "stdout",
     "output_type": "stream",
     "text": [
      "___Summary Statistics for Cluster 3___\n"
     ]
    },
    {
     "data": {
      "text/html": [
       "<div>\n",
       "<style scoped>\n",
       "    .dataframe tbody tr th:only-of-type {\n",
       "        vertical-align: middle;\n",
       "    }\n",
       "\n",
       "    .dataframe tbody tr th {\n",
       "        vertical-align: top;\n",
       "    }\n",
       "\n",
       "    .dataframe thead th {\n",
       "        text-align: right;\n",
       "    }\n",
       "</style>\n",
       "<table border=\"1\" class=\"dataframe\">\n",
       "  <thead>\n",
       "    <tr style=\"text-align: right;\">\n",
       "      <th></th>\n",
       "      <th>Number of Sessions</th>\n",
       "      <th>Duration(s)</th>\n",
       "      <th>Total Data(megabytes)</th>\n",
       "    </tr>\n",
       "  </thead>\n",
       "  <tbody>\n",
       "    <tr>\n",
       "      <th>min</th>\n",
       "      <td>0</td>\n",
       "      <td>3.837100e+01</td>\n",
       "      <td>3.324901e+01</td>\n",
       "    </tr>\n",
       "    <tr>\n",
       "      <th>max</th>\n",
       "      <td>12</td>\n",
       "      <td>4.059652e+03</td>\n",
       "      <td>5.622232e+03</td>\n",
       "    </tr>\n",
       "    <tr>\n",
       "      <th>sum</th>\n",
       "      <td>10698</td>\n",
       "      <td>1.943136e+06</td>\n",
       "      <td>2.022271e+06</td>\n",
       "    </tr>\n",
       "  </tbody>\n",
       "</table>\n",
       "</div>"
      ],
      "text/plain": [
       "     Number of Sessions   Duration(s)  Total Data(megabytes)\n",
       "min                   0  3.837100e+01           3.324901e+01\n",
       "max                  12  4.059652e+03           5.622232e+03\n",
       "sum               10698  1.943136e+06           2.022271e+06"
      ]
     },
     "execution_count": 73,
     "metadata": {},
     "output_type": "execute_result"
    }
   ],
   "source": [
    "print('___Summary Statistics for Cluster 3___')\n",
    "clusters['cluster 2'].agg(['min','max','sum'])"
   ]
  },
  {
   "cell_type": "markdown",
   "id": "activated-argument",
   "metadata": {},
   "source": [
    "## 3"
   ]
  },
  {
   "cell_type": "code",
   "execution_count": 75,
   "id": "warming-authorization",
   "metadata": {},
   "outputs": [],
   "source": [
    "users_and_apps=df_second.groupby(by='MSISDN/Number').agg({'Social Media Total (megabytes)': 'sum',\n",
    "                                                          'Email Total (megabytes)': 'sum',\n",
    "                                                          'Google Total (megabytes)': 'sum',\n",
    "                                                          'Youtube Total (megabytes)': 'sum',\n",
    "                                                          'Netflix Total (megabytes)': 'sum',\n",
    "                                                          'Gaming Total (megabytes)': 'sum'})"
   ]
  },
  {
   "cell_type": "code",
   "execution_count": 76,
   "id": "active-fancy",
   "metadata": {},
   "outputs": [],
   "source": [
    "def findtopten(df,sort_col):\n",
    "    try:\n",
    "        df_sorted=df.sort_values(by=sort_col,ascending=False)[sort_col].head(10)\n",
    "        \n",
    "    except:\n",
    "        print('Enter the right name of the column')\n",
    "    return df_sorted"
   ]
  },
  {
   "cell_type": "code",
   "execution_count": 77,
   "id": "similar-gateway",
   "metadata": {},
   "outputs": [
    {
     "data": {
      "text/plain": [
       "MSISDN/Number\n",
       "33626320676    43.374779\n",
       "33760536639    39.783189\n",
       "33659725664    35.412358\n",
       "33614892860    28.294544\n",
       "33625779332    27.135500\n",
       "33667163239    24.247850\n",
       "33786323068    23.974919\n",
       "33669068942    23.800834\n",
       "33603127838    23.077825\n",
       "33658490784    23.000066\n",
       "Name: Social Media Total (megabytes), dtype: float64"
      ]
     },
     "execution_count": 77,
     "metadata": {},
     "output_type": "execute_result"
    }
   ],
   "source": [
    "findtopten(users_and_apps,'Social Media Total (megabytes)')"
   ]
  },
  {
   "cell_type": "code",
   "execution_count": 78,
   "id": "proud-measurement",
   "metadata": {
    "scrolled": true
   },
   "outputs": [
    {
     "data": {
      "text/plain": [
       "MSISDN/Number\n",
       "33626320676    42.418782\n",
       "33614892860    40.788634\n",
       "33625779332    40.633966\n",
       "33786323068    36.310123\n",
       "33659725664    35.999792\n",
       "33760536639    33.693767\n",
       "33675877202    31.514421\n",
       "33665460546    30.417885\n",
       "33667163239    30.335796\n",
       "33698792269    29.059042\n",
       "Name: Email Total (megabytes), dtype: float64"
      ]
     },
     "execution_count": 78,
     "metadata": {},
     "output_type": "execute_result"
    }
   ],
   "source": [
    "findtopten(users_and_apps,'Email Total (megabytes)')"
   ]
  },
  {
   "cell_type": "code",
   "execution_count": 79,
   "id": "comprehensive-september",
   "metadata": {},
   "outputs": [
    {
     "data": {
      "text/plain": [
       "MSISDN/Number\n",
       "33625779332    452.958769\n",
       "33760536639    396.289198\n",
       "33614892860    394.370218\n",
       "33626320676    374.483047\n",
       "33675877202    317.410572\n",
       "33667163239    315.231310\n",
       "33627080969    308.790774\n",
       "33760413819    303.169107\n",
       "33698792269    302.661958\n",
       "33603127838    284.090139\n",
       "Name: Youtube Total (megabytes), dtype: float64"
      ]
     },
     "execution_count": 79,
     "metadata": {},
     "output_type": "execute_result"
    }
   ],
   "source": [
    "findtopten(users_and_apps,'Youtube Total (megabytes)')"
   ]
  },
  {
   "cell_type": "code",
   "execution_count": 80,
   "id": "handed-taylor",
   "metadata": {},
   "outputs": [
    {
     "data": {
      "text/plain": [
       "MSISDN/Number\n",
       "33626320676    152.191852\n",
       "33625779332    142.307915\n",
       "33614892860    127.973787\n",
       "33760536639    123.223099\n",
       "33659725664    116.516345\n",
       "33786323068    110.254484\n",
       "33675877202    109.860502\n",
       "33667163239    105.032696\n",
       "33761268199     97.089988\n",
       "33698756430     91.935151\n",
       "Name: Google Total (megabytes), dtype: float64"
      ]
     },
     "execution_count": 80,
     "metadata": {},
     "output_type": "execute_result"
    }
   ],
   "source": [
    "findtopten(users_and_apps,'Google Total (megabytes)')"
   ]
  },
  {
   "cell_type": "code",
   "execution_count": 81,
   "id": "promotional-norman",
   "metadata": {},
   "outputs": [
    {
     "data": {
      "text/plain": [
       "MSISDN/Number\n",
       "33659725664    399.519079\n",
       "33614892860    361.401046\n",
       "33625779332    356.980607\n",
       "33760536639    334.643269\n",
       "33626320676    328.725740\n",
       "33760413819    318.347546\n",
       "33667163239    313.939488\n",
       "33675877202    309.093159\n",
       "33786323068    305.939790\n",
       "33761268199    292.091341\n",
       "Name: Netflix Total (megabytes), dtype: float64"
      ]
     },
     "execution_count": 81,
     "metadata": {},
     "output_type": "execute_result"
    }
   ],
   "source": [
    "findtopten(users_and_apps,'Netflix Total (megabytes)')"
   ]
  },
  {
   "cell_type": "code",
   "execution_count": 82,
   "id": "painful-school",
   "metadata": {},
   "outputs": [
    {
     "data": {
      "text/plain": [
       "MSISDN/Number\n",
       "33614892860    7749.432234\n",
       "33760536639    7461.045228\n",
       "33625779332    7326.673487\n",
       "33675877202    6970.567597\n",
       "33626320676    6887.572116\n",
       "33659725664    6725.559211\n",
       "33666464084    6646.303338\n",
       "33760413819    6268.619592\n",
       "33664712899    6103.856008\n",
       "33698792269    5753.743069\n",
       "Name: Gaming Total (megabytes), dtype: float64"
      ]
     },
     "execution_count": 82,
     "metadata": {},
     "output_type": "execute_result"
    }
   ],
   "source": [
    "findtopten(users_and_apps,'Gaming Total (megabytes)')"
   ]
  },
  {
   "cell_type": "code",
   "execution_count": 83,
   "id": "homeless-teens",
   "metadata": {
    "scrolled": true
   },
   "outputs": [
    {
     "data": {
      "image/png": "[encoded data removed]",
      "text/plain": [
       "<Figure size 432x288 with 1 Axes>"
      ]
     },
     "metadata": {
      "needs_background": "light"
     },
     "output_type": "display_data"
    }
   ],
   "source": [
    "_=users_and_apps.agg('sum').sort_values(ascending=False)[:3].plot(kind='bar',rot=10,ylabel='Total MBs')\n",
    "_=plt.title('Top 3 most used applicationsb')"
   ]
  },
  {
   "cell_type": "code",
   "execution_count": 84,
   "id": "imperial-diary",
   "metadata": {},
   "outputs": [],
   "source": [
    "def elbow_method(dataframe, min_k, max_k):\n",
    "    # Try all k's between min_k and max_k\n",
    "    cluster_nums = range(min_k, max_k + 1)\n",
    "    \n",
    "    # Array of K-means algorithm objects\n",
    "    k_mean_algs = [KMeans(n_clusters = k) for k in cluster_nums]\n",
    "    \n",
    "    # Array with the results of the K-mean algorithms\n",
    "    k_mean_res = [alg.fit(dataframe) for alg in k_mean_algs]\n",
    "    \n",
    "    # Array with the centroids for each value of k\n",
    "    centroids = [res.cluster_centers_ for res in k_mean_res]\n",
    "    \n",
    "    # Euclidean distance between the points of the cluster and the centroids\n",
    "    distances = [cdist(dataframe, centroid, 'euclidean') for centroid in centroids]\n",
    "    \n",
    "    # Get the closest centroid (and the corresponding distance)\n",
    "    min_indices = [np.argmin(distance, axis = 1) for distance in distances]\n",
    "    min_distances = [np.min(distance, axis = 1) for distance in distances]\n",
    "    \n",
    "    # Calculate the average squared distance\n",
    "    avg_sum_squares = [sum(dist ** 2) / dataframe.shape[0] for dist in min_distances]\n",
    "\n",
    "    # Plot the elbow graph\n",
    "    fig = plt.figure()\n",
    "    ax = fig.add_subplot(111)\n",
    "    ax.plot(cluster_nums, avg_sum_squares, 'b*-')\n",
    "    plt.grid(True)\n",
    "    plt.xlabel('Number of clusters')\n",
    "    plt.ylabel('Average sum of squares within cluster')\n",
    "    plt.show()"
   ]
  },
  {
   "cell_type": "code",
   "execution_count": 86,
   "id": "egyptian-proposal",
   "metadata": {},
   "outputs": [
    {
     "data": {
      "image/png": "[encoded data removed]",
      "text/plain": [
       "<Figure size 432x288 with 1 Axes>"
      ]
     },
     "metadata": {
      "needs_background": "light"
     },
     "output_type": "display_data"
    }
   ],
   "source": [
    "elbow_method(users_metric,2,8)"
   ]
  },
  {
   "cell_type": "code",
   "execution_count": null,
   "id": "uniform-salmon",
   "metadata": {},
   "outputs": [],
   "source": []
  }
 ],
 "metadata": {
  "kernelspec": {
   "display_name": "Python 3",
   "language": "python",
   "name": "python3"
  },
  "language_info": {
   "codemirror_mode": {
    "name": "ipython",
    "version": 3
   },
   "file_extension": ".py",
   "mimetype": "text/x-python",
   "name": "python",
   "nbconvert_exporter": "python",
   "pygments_lexer": "ipython3",
   "version": "3.6.5"
  },
  "latex_envs": {
   "LaTeX_envs_menu_present": true,
   "autoclose": false,
   "autocomplete": true,
   "bibliofile": "biblio.bib",
   "cite_by": "apalike",
   "current_citInitial": 1,
   "eqLabelWithNumbers": true,
   "eqNumInitial": 1,
   "hotkeys": {
    "equation": "Ctrl-E",
    "itemize": "Ctrl-I"
   },
   "labels_anchors": false,
   "latex_user_defs": false,
   "report_style_numbering": false,
   "user_envs_cfg": false
  }
 },
 "nbformat": 4,
 "nbformat_minor": 5
}
